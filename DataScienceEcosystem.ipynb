{
  "metadata": {
    "kernelspec": {
      "name": "python",
      "display_name": "Python (Pyodide)",
      "language": "python"
    },
    "language_info": {
      "codemirror_mode": {
        "name": "python",
        "version": 3
      },
      "file_extension": ".py",
      "mimetype": "text/x-python",
      "name": "python",
      "nbconvert_exporter": "python",
      "pygments_lexer": "ipython3",
      "version": "3.8"
    }
  },
  "nbformat_minor": 4,
  "nbformat": 4,
  "cells": [
    {
      "cell_type": "markdown",
      "source": "<h1> Data Science Tools and Ecosystem</h1>",
      "metadata": {}
    },
    {
      "cell_type": "markdown",
      "source": "In this notebook, Data Science Tools and Ecosystem are summarized.",
      "metadata": {}
    },
    {
      "cell_type": "markdown",
      "source": "<strong>Objectives</strong>:\n<h3>List popular languages for Data Science</h3>\n<ul><li>Python</li><li>R</li><li>Julia</li></ul>",
      "metadata": {}
    },
    {
      "cell_type": "markdown",
      "source": "Some of the popular languages that Data Scientists use are:\n\n1.- Python: Es uno de los lenguajes más populares y utilizados en ciencia de datos debido a su sintaxis clara y legible, así como a sus potentes bibliotecas como NumPy, Pandas, Matplotlib, Scikit-learn, entre otras.\n2.- R: Es otro lenguaje ampliamente utilizado en la comunidad de ciencia de datos, especialmente en campos como la estadística, la minería de datos y el aprendizaje automático. Cuenta con una gran cantidad de paquetes especializados.\n3.- SQL: Aunque no es un lenguaje de programación general, SQL (Structured Query Language) es fundamental para interactuar con bases de datos relacionales y extraer, manipular y analizar datos.\n4.- Julia: Es un lenguaje de programación relativamente nuevo, diseñado específicamente para cálculos numéricos y científicos. Se destaca por su alto rendimiento y facilidad de uso.\n5.- Scala: Este lenguaje de programación funcional se utiliza a menudo en entornos de big data, como Apache Spark, y es popular en el ecosistema de datos distribuidos.\n6.- MATLAB: Aunque no es tan popular como Python o R, MATLAB sigue siendo una herramienta valiosa en campos como el procesamiento de señales, la ingeniería y la investigación científica.\n7.- Java: A pesar de no ser un lenguaje específico de ciencia de datos, Java se utiliza en algunos frameworks y herramientas importantes, como Apache Hadoop y Apache Spark.\n8.- C/C++: Estos lenguajes de bajo nivel se utilizan a veces para implementar algoritmos y bibliotecas de alto rendimiento en ciencia de datos.",
      "metadata": {}
    },
    {
      "cell_type": "markdown",
      "source": "Some of the commonly used libraries used by Data Scientists include:\n\n1.- NumPy: This library provides support for large multi-dimensional arrays and matrices, along with a large collection of high-level mathematical functions to operate on these arrays.\n2.- Pandas: This library is designed to work with structured (tabular, heterogeneous, and time-series) and semi-structured data. It provides data structures and data analysis tools for working with tabular data.\n3.- Matplotlib: This is a plotting library that produces publication-quality figures in a variety of hardcopy formats and interactive environments across platforms.\n4.- Scikit-learn: This is a machine learning library that features various classification, regression, and clustering algorithms. It is designed to interoperate with the Python numerical and scientific libraries NumPy and SciPy.\n5.- TensorFlow: This is a popular open-source library for machine learning and deep learning tasks, particularly well-suited for training and deploying large neural networks.\n6.- Keras: This is a high-level neural networks API, written in Python and capable of running on top of TensorFlow, CNTK, or Theano.\n7.- SciPy: This is a collection of mathematical algorithms and convenience functions built on the NumPy extension of Python. It includes modules for optimization, linear algebra, integration, interpolation, special functions, FFT, signal and image processing, ODE solvers, and more.\n8.- Seaborn: This is a data visualization library based on Matplotlib, providing a high-level interface for drawing attractive and informative statistical graphics.\n9.- Statsmodels: This is a Python module that provides classes and functions for the estimation of many different statistical models, as well as for conducting statistical tests, and statistical data exploration.\n10.- BeautifulSoup: This is a library that makes it easy to scrape information from web pages. It provides a few simple methods and Pythonic idioms for navigating, searching, and modifying a parse tree.\n\nThese are just a few examples, and the specific libraries used can vary depending on the nature of the data and the tasks being performed.",
      "metadata": {}
    },
    {
      "cell_type": "code",
      "source": "import pandas as pd\n\n# Crear los datos para la tabla\ndata = {'Data Science Tools': ['Python', 'R', 'TensorFlow', 'PyTorch', 'Scikit-learn']}\n\n# Crear un DataFrame de pandas\ndf = pd.DataFrame(data)\n\n# Mostrar el DataFrame\ndf\n",
      "metadata": {
        "trusted": true
      },
      "outputs": [
        {
          "execution_count": 7,
          "output_type": "execute_result",
          "data": {
            "text/plain": "  Data Science Tools\n0             Python\n1                  R\n2         TensorFlow\n3            PyTorch\n4       Scikit-learn",
            "text/html": "<div>\n<style scoped>\n    .dataframe tbody tr th:only-of-type {\n        vertical-align: middle;\n    }\n\n    .dataframe tbody tr th {\n        vertical-align: top;\n    }\n\n    .dataframe thead th {\n        text-align: right;\n    }\n</style>\n<table border=\"1\" class=\"dataframe\">\n  <thead>\n    <tr style=\"text-align: right;\">\n      <th></th>\n      <th>Data Science Tools</th>\n    </tr>\n  </thead>\n  <tbody>\n    <tr>\n      <th>0</th>\n      <td>Python</td>\n    </tr>\n    <tr>\n      <th>1</th>\n      <td>R</td>\n    </tr>\n    <tr>\n      <th>2</th>\n      <td>TensorFlow</td>\n    </tr>\n    <tr>\n      <th>3</th>\n      <td>PyTorch</td>\n    </tr>\n    <tr>\n      <th>4</th>\n      <td>Scikit-learn</td>\n    </tr>\n  </tbody>\n</table>\n</div>"
          },
          "metadata": {}
        }
      ],
      "execution_count": 7
    },
    {
      "cell_type": "markdown",
      "source": "<h3> Below are a few examples of evaluating arithmetic expressions in Python </h3>",
      "metadata": {}
    },
    {
      "cell_type": "code",
      "source": "#This a simple arithmetic expression to mutiply then add integers\n(3*4)+5\n",
      "metadata": {
        "trusted": true
      },
      "outputs": [
        {
          "execution_count": 5,
          "output_type": "execute_result",
          "data": {
            "text/plain": "17"
          },
          "metadata": {}
        }
      ],
      "execution_count": 5
    },
    {
      "cell_type": "code",
      "source": "#This will convert 200 minutes to hours by diving by 60\n200/60",
      "metadata": {
        "trusted": true
      },
      "outputs": [
        {
          "execution_count": 6,
          "output_type": "execute_result",
          "data": {
            "text/plain": "3.3333333333333335"
          },
          "metadata": {}
        }
      ],
      "execution_count": 6
    },
    {
      "cell_type": "markdown",
      "source": "<h2>Author</h2>\nAlejo Diaz Abarca",
      "metadata": {}
    },
    {
      "cell_type": "code",
      "source": "",
      "metadata": {
        "trusted": true
      },
      "outputs": [],
      "execution_count": null
    }
  ]
}